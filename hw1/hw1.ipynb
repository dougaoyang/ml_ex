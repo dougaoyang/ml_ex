{
 "cells": [
  {
   "cell_type": "code",
   "execution_count": 1,
   "metadata": {},
   "outputs": [],
   "source": [
    "import numpy as np\n",
    "import pandas as pd\n",
    "import matplotlib.pyplot as plt\n",
    "\n",
    "\n",
    "data_init = pd.read_csv('data/train.csv', encoding='big5')"
   ]
  },
  {
   "cell_type": "code",
   "execution_count": 2,
   "metadata": {},
   "outputs": [
    {
     "output_type": "stream",
     "name": "stdout",
     "text": "{'1.8', '56', '8.4', '3.4', '1.2', '7.8', '3.2', '27', '7.6', '4', '2.6', 'NR', '4.6', '17', '7.4', '9.2', '0.8', '38', '7', '23', '20', '2.8', '0', '1.4', '3', '5', '6.4', '1.6', '0.2', '0.6', '0.4', '7.2', '10', '12', '1', '2.2', '3.6', '18', '14', '6.8', '3.8', '13', '2', '4.8', '2.4', '4.2', '5.4', '9.8', '74', '21', '15', '19', '66', '11', '8.2', '8.6'}\n"
    }
   ],
   "source": [
    "# 处理降水量列 RAINFALL\n",
    "days = int(len(data_init) / 18)\n",
    "\n",
    "RAINFALL_set = set()\n",
    "for i in range(days):\n",
    "    day_set = data_init[i*18: (i+1)*18]\n",
    "    set_t = set(day_set.iloc[10, 3:])\n",
    "    RAINFALL_set = RAINFALL_set.union(set_t)\n",
    "print(RAINFALL_set)"
   ]
  },
  {
   "cell_type": "code",
   "execution_count": 3,
   "metadata": {},
   "outputs": [
    {
     "output_type": "execute_result",
     "data": {
      "text/plain": "array([['14', '14', '14', ..., '15', '15', '15'],\n       ['1.8', '1.8', '1.8', ..., '1.8', '1.8', '1.8'],\n       ['0.51', '0.41', '0.39', ..., '0.35', '0.36', '0.32'],\n       ...,\n       ['36', '55', '72', ..., '118', '100', '105'],\n       ['1.9', '2.4', '1.9', ..., '1.5', '2', '2'],\n       ['0.7', '0.8', '1.8', ..., '1.6', '1.8', '2']], dtype=object)"
     },
     "metadata": {},
     "execution_count": 3
    }
   ],
   "source": [
    "# 将 NR 替换为 0\n",
    "data = data_init.replace('NR', 0).iloc[:, 3:]\n",
    "raw_data = data.to_numpy()\n",
    "raw_data"
   ]
  },
  {
   "cell_type": "code",
   "execution_count": 4,
   "metadata": {},
   "outputs": [
    {
     "output_type": "execute_result",
     "data": {
      "text/plain": "0       AMB_TEMP\n1            CH4\n2             CO\n3           NMHC\n4             NO\n5            NO2\n6            NOx\n7             O3\n8           PM10\n9          PM2.5\n10      RAINFALL\n11            RH\n12           SO2\n13           THC\n14         WD_HR\n15    WIND_DIREC\n16    WIND_SPEED\n17         WS_HR\nName: 測項, dtype: object"
     },
     "metadata": {},
     "execution_count": 4
    }
   ],
   "source": [
    "data_init[:18].iloc[:,2]"
   ]
  },
  {
   "cell_type": "code",
   "execution_count": 5,
   "metadata": {},
   "outputs": [
    {
     "output_type": "stream",
     "name": "stdout",
     "text": "(18, 480)\n"
    }
   ],
   "source": [
    "# 将数据按照月度来分隔， 分成 12个18*(20*24)个数据\n",
    "month_data = []\n",
    "for month in range(12):\n",
    "    sample = np.empty([18, 480])\n",
    "    for day in range(20):\n",
    "        # 一天的数据\n",
    "        begin_row = 18 * (month*20 + day)\n",
    "        end_row = begin_row + 18\n",
    "        sample[:, day * 24 : (day+1) * 24] = raw_data[begin_row : end_row, :]\n",
    "    month_data.append(sample)\n",
    "print(month_data[0].shape)"
   ]
  },
  {
   "cell_type": "code",
   "execution_count": 6,
   "metadata": {},
   "outputs": [
    {
     "output_type": "stream",
     "name": "stdout",
     "text": "[[14.  14.  14.  ...  2.   2.   0.5]\n [14.  14.  13.  ...  2.   0.5  0.3]\n [14.  13.  12.  ...  0.5  0.3  0.8]\n ...\n [17.  18.  19.  ...  1.1  1.4  1.3]\n [18.  19.  18.  ...  1.4  1.3  1.6]\n [19.  18.  17.  ...  1.3  1.6  1.8]]\n[[30.]\n [41.]\n [44.]\n ...\n [17.]\n [24.]\n [29.]]\n"
    }
   ],
   "source": [
    "# 将数据按照每10小时分隔，前9小时为x，后1小时为y，每个月有471条记录，每个记录有18*9个属性\n",
    "x = np.empty([12 * 471, 18 * 9], dtype = float)\n",
    "y = np.empty([12 * 471, 1], dtype = float)\n",
    "for month in range(12):\n",
    "    for day in range(20):\n",
    "        for hour in range(24):\n",
    "            if day == 19 and hour > 14:\n",
    "                break\n",
    "            row = month*471 + day*24 + hour\n",
    "            begin_column = day*24 + hour\n",
    "            end_column = begin_column + 9\n",
    "            x[row, :] = month_data[month][:, begin_column : end_column].reshape(1, -1)\n",
    "            y[row, 0] = month_data[month][9, end_column]\n",
    "\n",
    "print(x)\n",
    "print(y)"
   ]
  },
  {
   "cell_type": "code",
   "execution_count": null,
   "metadata": {},
   "outputs": [],
   "source": []
  }
 ],
 "metadata": {
  "file_extension": ".py",
  "kernelspec": {
   "display_name": "Python 3",
   "language": "python",
   "name": "python3"
  },
  "language_info": {
   "codemirror_mode": {
    "name": "ipython",
    "version": 3
   },
   "file_extension": ".py",
   "mimetype": "text/x-python",
   "name": "python",
   "nbconvert_exporter": "python",
   "pygments_lexer": "ipython3",
   "version": "3.6.10-final"
  },
  "mimetype": "text/x-python",
  "name": "python",
  "npconvert_exporter": "python",
  "pygments_lexer": "ipython3",
  "version": 3
 },
 "nbformat": 4,
 "nbformat_minor": 2
}