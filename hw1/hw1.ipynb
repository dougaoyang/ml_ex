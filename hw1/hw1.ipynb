{
 "nbformat": 4,
 "nbformat_minor": 2,
 "metadata": {
  "language_info": {
   "name": "python",
   "codemirror_mode": {
    "name": "ipython",
    "version": 3
   },
   "version": "3.6.10-final"
  },
  "orig_nbformat": 2,
  "file_extension": ".py",
  "mimetype": "text/x-python",
  "name": "python",
  "npconvert_exporter": "python",
  "pygments_lexer": "ipython3",
  "version": 3,
  "kernelspec": {
   "name": "python3",
   "display_name": "Python 3"
  }
 },
 "cells": [
  {
   "cell_type": "code",
   "execution_count": 16,
   "metadata": {},
   "outputs": [],
   "source": [
    "import numpy as np\n",
    "import pandas as pd\n",
    "import matplotlib.pyplot as plt\n",
    "\n",
    "loop_hours = 9 # 根据前9小时预测第10小时的数据\n",
    "attr_count = 18 # 属性数量\n",
    "month_days = 20 # 训练集每个月前20天\n",
    "\n",
    "origin_train_init = pd.read_csv('data/train.csv', encoding='big5')"
   ]
  },
  {
   "cell_type": "code",
   "execution_count": 17,
   "metadata": {},
   "outputs": [
    {
     "output_type": "execute_result",
     "data": {
      "text/plain": "            測項     0     1     2     3     4     5     6     7     8  ...  \\\n0     AMB_TEMP    14    14    14    13    12    12    12    12    15  ...   \n1          CH4   1.8   1.8   1.8   1.8   1.8   1.8   1.8   1.8   1.8  ...   \n2           CO  0.51  0.41  0.39  0.37  0.35   0.3  0.37  0.47  0.78  ...   \n3         NMHC   0.2  0.15  0.13  0.12  0.11  0.06   0.1  0.13  0.26  ...   \n4           NO   0.9   0.6   0.5   1.7   1.8   1.5   1.9   2.2   6.6  ...   \n5          NO2    16   9.2   8.2   6.9   6.8   3.8   6.9   7.8    15  ...   \n6          NOx    17   9.8   8.7   8.6   8.5   5.3   8.8   9.9    22  ...   \n7           O3    16    30    27    23    24    28    24    22    21  ...   \n8         PM10    56    50    48    35    25    12     4     2    11  ...   \n9        PM2.5    26    39    36    35    31    28    25    20    19  ...   \n10    RAINFALL     0     0     0     0     0     0     0     0     0  ...   \n11          RH    77    68    67    74    72    73    74    73    66  ...   \n12         SO2   1.8     2   1.7   1.6   1.9   1.4   1.5   1.6   5.1  ...   \n13         THC     2     2     2   1.9   1.9   1.8   1.9   1.9   2.1  ...   \n14       WD_HR    37    80    57    76   110   106   101   104   124  ...   \n15  WIND_DIREC    35    79   2.4    55    94   116   106    94   232  ...   \n16  WIND_SPEED   1.4   1.8     1   0.6   1.7   2.5   2.5     2   0.6  ...   \n17       WS_HR   0.5   0.9   0.6   0.3   0.6   1.9     2     2   0.5  ...   \n\n      14    15    16    17    18    19    20    21    22    23  \n0     22    22    21    19    17    16    15    15    15    15  \n1    1.8   1.8   1.8   1.8   1.8   1.8   1.8   1.8   1.8   1.8  \n2   0.37  0.37  0.47  0.69  0.56  0.45  0.38  0.35  0.36  0.32  \n3    0.1  0.13  0.14  0.23  0.18  0.12   0.1  0.09   0.1  0.08  \n4    2.5   2.2   2.5   2.3   2.1   1.9   1.5   1.6   1.8   1.5  \n5     11    11    22    28    19    12   8.1     7   6.9     6  \n6     14    13    25    30    21    13   9.7   8.6   8.7   7.5  \n7     65    64    51    34    33    34    37    38    38    36  \n8     52    51    66    85    85    63    46    36    42    42  \n9     36    45    42    49    45    44    41    30    24    13  \n10     0     0     0     0     0     0     0     0     0     0  \n11    47    49    56    67    72    69    70    70    70    69  \n12   3.9   4.4   9.9   5.1   3.4   2.3     2   1.9   1.9   1.9  \n13   1.9   1.9   1.9   2.1     2   1.9   1.9   1.9   1.9   1.9  \n14   307   304   307   124   118   121   113   112   106   110  \n15   313   305   291   124   119   118   114   108   102   111  \n16   2.5   2.2   1.4   2.2   2.8     3   2.6   2.7   2.1   2.1  \n17   2.1   2.1   1.9     1   2.5   2.5   2.8   2.6   2.4   2.3  \n\n[18 rows x 25 columns]",
      "text/html": "<div>\n<style scoped>\n    .dataframe tbody tr th:only-of-type {\n        vertical-align: middle;\n    }\n\n    .dataframe tbody tr th {\n        vertical-align: top;\n    }\n\n    .dataframe thead th {\n        text-align: right;\n    }\n</style>\n<table border=\"1\" class=\"dataframe\">\n  <thead>\n    <tr style=\"text-align: right;\">\n      <th></th>\n      <th>測項</th>\n      <th>0</th>\n      <th>1</th>\n      <th>2</th>\n      <th>3</th>\n      <th>4</th>\n      <th>5</th>\n      <th>6</th>\n      <th>7</th>\n      <th>8</th>\n      <th>...</th>\n      <th>14</th>\n      <th>15</th>\n      <th>16</th>\n      <th>17</th>\n      <th>18</th>\n      <th>19</th>\n      <th>20</th>\n      <th>21</th>\n      <th>22</th>\n      <th>23</th>\n    </tr>\n  </thead>\n  <tbody>\n    <tr>\n      <th>0</th>\n      <td>AMB_TEMP</td>\n      <td>14</td>\n      <td>14</td>\n      <td>14</td>\n      <td>13</td>\n      <td>12</td>\n      <td>12</td>\n      <td>12</td>\n      <td>12</td>\n      <td>15</td>\n      <td>...</td>\n      <td>22</td>\n      <td>22</td>\n      <td>21</td>\n      <td>19</td>\n      <td>17</td>\n      <td>16</td>\n      <td>15</td>\n      <td>15</td>\n      <td>15</td>\n      <td>15</td>\n    </tr>\n    <tr>\n      <th>1</th>\n      <td>CH4</td>\n      <td>1.8</td>\n      <td>1.8</td>\n      <td>1.8</td>\n      <td>1.8</td>\n      <td>1.8</td>\n      <td>1.8</td>\n      <td>1.8</td>\n      <td>1.8</td>\n      <td>1.8</td>\n      <td>...</td>\n      <td>1.8</td>\n      <td>1.8</td>\n      <td>1.8</td>\n      <td>1.8</td>\n      <td>1.8</td>\n      <td>1.8</td>\n      <td>1.8</td>\n      <td>1.8</td>\n      <td>1.8</td>\n      <td>1.8</td>\n    </tr>\n    <tr>\n      <th>2</th>\n      <td>CO</td>\n      <td>0.51</td>\n      <td>0.41</td>\n      <td>0.39</td>\n      <td>0.37</td>\n      <td>0.35</td>\n      <td>0.3</td>\n      <td>0.37</td>\n      <td>0.47</td>\n      <td>0.78</td>\n      <td>...</td>\n      <td>0.37</td>\n      <td>0.37</td>\n      <td>0.47</td>\n      <td>0.69</td>\n      <td>0.56</td>\n      <td>0.45</td>\n      <td>0.38</td>\n      <td>0.35</td>\n      <td>0.36</td>\n      <td>0.32</td>\n    </tr>\n    <tr>\n      <th>3</th>\n      <td>NMHC</td>\n      <td>0.2</td>\n      <td>0.15</td>\n      <td>0.13</td>\n      <td>0.12</td>\n      <td>0.11</td>\n      <td>0.06</td>\n      <td>0.1</td>\n      <td>0.13</td>\n      <td>0.26</td>\n      <td>...</td>\n      <td>0.1</td>\n      <td>0.13</td>\n      <td>0.14</td>\n      <td>0.23</td>\n      <td>0.18</td>\n      <td>0.12</td>\n      <td>0.1</td>\n      <td>0.09</td>\n      <td>0.1</td>\n      <td>0.08</td>\n    </tr>\n    <tr>\n      <th>4</th>\n      <td>NO</td>\n      <td>0.9</td>\n      <td>0.6</td>\n      <td>0.5</td>\n      <td>1.7</td>\n      <td>1.8</td>\n      <td>1.5</td>\n      <td>1.9</td>\n      <td>2.2</td>\n      <td>6.6</td>\n      <td>...</td>\n      <td>2.5</td>\n      <td>2.2</td>\n      <td>2.5</td>\n      <td>2.3</td>\n      <td>2.1</td>\n      <td>1.9</td>\n      <td>1.5</td>\n      <td>1.6</td>\n      <td>1.8</td>\n      <td>1.5</td>\n    </tr>\n    <tr>\n      <th>5</th>\n      <td>NO2</td>\n      <td>16</td>\n      <td>9.2</td>\n      <td>8.2</td>\n      <td>6.9</td>\n      <td>6.8</td>\n      <td>3.8</td>\n      <td>6.9</td>\n      <td>7.8</td>\n      <td>15</td>\n      <td>...</td>\n      <td>11</td>\n      <td>11</td>\n      <td>22</td>\n      <td>28</td>\n      <td>19</td>\n      <td>12</td>\n      <td>8.1</td>\n      <td>7</td>\n      <td>6.9</td>\n      <td>6</td>\n    </tr>\n    <tr>\n      <th>6</th>\n      <td>NOx</td>\n      <td>17</td>\n      <td>9.8</td>\n      <td>8.7</td>\n      <td>8.6</td>\n      <td>8.5</td>\n      <td>5.3</td>\n      <td>8.8</td>\n      <td>9.9</td>\n      <td>22</td>\n      <td>...</td>\n      <td>14</td>\n      <td>13</td>\n      <td>25</td>\n      <td>30</td>\n      <td>21</td>\n      <td>13</td>\n      <td>9.7</td>\n      <td>8.6</td>\n      <td>8.7</td>\n      <td>7.5</td>\n    </tr>\n    <tr>\n      <th>7</th>\n      <td>O3</td>\n      <td>16</td>\n      <td>30</td>\n      <td>27</td>\n      <td>23</td>\n      <td>24</td>\n      <td>28</td>\n      <td>24</td>\n      <td>22</td>\n      <td>21</td>\n      <td>...</td>\n      <td>65</td>\n      <td>64</td>\n      <td>51</td>\n      <td>34</td>\n      <td>33</td>\n      <td>34</td>\n      <td>37</td>\n      <td>38</td>\n      <td>38</td>\n      <td>36</td>\n    </tr>\n    <tr>\n      <th>8</th>\n      <td>PM10</td>\n      <td>56</td>\n      <td>50</td>\n      <td>48</td>\n      <td>35</td>\n      <td>25</td>\n      <td>12</td>\n      <td>4</td>\n      <td>2</td>\n      <td>11</td>\n      <td>...</td>\n      <td>52</td>\n      <td>51</td>\n      <td>66</td>\n      <td>85</td>\n      <td>85</td>\n      <td>63</td>\n      <td>46</td>\n      <td>36</td>\n      <td>42</td>\n      <td>42</td>\n    </tr>\n    <tr>\n      <th>9</th>\n      <td>PM2.5</td>\n      <td>26</td>\n      <td>39</td>\n      <td>36</td>\n      <td>35</td>\n      <td>31</td>\n      <td>28</td>\n      <td>25</td>\n      <td>20</td>\n      <td>19</td>\n      <td>...</td>\n      <td>36</td>\n      <td>45</td>\n      <td>42</td>\n      <td>49</td>\n      <td>45</td>\n      <td>44</td>\n      <td>41</td>\n      <td>30</td>\n      <td>24</td>\n      <td>13</td>\n    </tr>\n    <tr>\n      <th>10</th>\n      <td>RAINFALL</td>\n      <td>0</td>\n      <td>0</td>\n      <td>0</td>\n      <td>0</td>\n      <td>0</td>\n      <td>0</td>\n      <td>0</td>\n      <td>0</td>\n      <td>0</td>\n      <td>...</td>\n      <td>0</td>\n      <td>0</td>\n      <td>0</td>\n      <td>0</td>\n      <td>0</td>\n      <td>0</td>\n      <td>0</td>\n      <td>0</td>\n      <td>0</td>\n      <td>0</td>\n    </tr>\n    <tr>\n      <th>11</th>\n      <td>RH</td>\n      <td>77</td>\n      <td>68</td>\n      <td>67</td>\n      <td>74</td>\n      <td>72</td>\n      <td>73</td>\n      <td>74</td>\n      <td>73</td>\n      <td>66</td>\n      <td>...</td>\n      <td>47</td>\n      <td>49</td>\n      <td>56</td>\n      <td>67</td>\n      <td>72</td>\n      <td>69</td>\n      <td>70</td>\n      <td>70</td>\n      <td>70</td>\n      <td>69</td>\n    </tr>\n    <tr>\n      <th>12</th>\n      <td>SO2</td>\n      <td>1.8</td>\n      <td>2</td>\n      <td>1.7</td>\n      <td>1.6</td>\n      <td>1.9</td>\n      <td>1.4</td>\n      <td>1.5</td>\n      <td>1.6</td>\n      <td>5.1</td>\n      <td>...</td>\n      <td>3.9</td>\n      <td>4.4</td>\n      <td>9.9</td>\n      <td>5.1</td>\n      <td>3.4</td>\n      <td>2.3</td>\n      <td>2</td>\n      <td>1.9</td>\n      <td>1.9</td>\n      <td>1.9</td>\n    </tr>\n    <tr>\n      <th>13</th>\n      <td>THC</td>\n      <td>2</td>\n      <td>2</td>\n      <td>2</td>\n      <td>1.9</td>\n      <td>1.9</td>\n      <td>1.8</td>\n      <td>1.9</td>\n      <td>1.9</td>\n      <td>2.1</td>\n      <td>...</td>\n      <td>1.9</td>\n      <td>1.9</td>\n      <td>1.9</td>\n      <td>2.1</td>\n      <td>2</td>\n      <td>1.9</td>\n      <td>1.9</td>\n      <td>1.9</td>\n      <td>1.9</td>\n      <td>1.9</td>\n    </tr>\n    <tr>\n      <th>14</th>\n      <td>WD_HR</td>\n      <td>37</td>\n      <td>80</td>\n      <td>57</td>\n      <td>76</td>\n      <td>110</td>\n      <td>106</td>\n      <td>101</td>\n      <td>104</td>\n      <td>124</td>\n      <td>...</td>\n      <td>307</td>\n      <td>304</td>\n      <td>307</td>\n      <td>124</td>\n      <td>118</td>\n      <td>121</td>\n      <td>113</td>\n      <td>112</td>\n      <td>106</td>\n      <td>110</td>\n    </tr>\n    <tr>\n      <th>15</th>\n      <td>WIND_DIREC</td>\n      <td>35</td>\n      <td>79</td>\n      <td>2.4</td>\n      <td>55</td>\n      <td>94</td>\n      <td>116</td>\n      <td>106</td>\n      <td>94</td>\n      <td>232</td>\n      <td>...</td>\n      <td>313</td>\n      <td>305</td>\n      <td>291</td>\n      <td>124</td>\n      <td>119</td>\n      <td>118</td>\n      <td>114</td>\n      <td>108</td>\n      <td>102</td>\n      <td>111</td>\n    </tr>\n    <tr>\n      <th>16</th>\n      <td>WIND_SPEED</td>\n      <td>1.4</td>\n      <td>1.8</td>\n      <td>1</td>\n      <td>0.6</td>\n      <td>1.7</td>\n      <td>2.5</td>\n      <td>2.5</td>\n      <td>2</td>\n      <td>0.6</td>\n      <td>...</td>\n      <td>2.5</td>\n      <td>2.2</td>\n      <td>1.4</td>\n      <td>2.2</td>\n      <td>2.8</td>\n      <td>3</td>\n      <td>2.6</td>\n      <td>2.7</td>\n      <td>2.1</td>\n      <td>2.1</td>\n    </tr>\n    <tr>\n      <th>17</th>\n      <td>WS_HR</td>\n      <td>0.5</td>\n      <td>0.9</td>\n      <td>0.6</td>\n      <td>0.3</td>\n      <td>0.6</td>\n      <td>1.9</td>\n      <td>2</td>\n      <td>2</td>\n      <td>0.5</td>\n      <td>...</td>\n      <td>2.1</td>\n      <td>2.1</td>\n      <td>1.9</td>\n      <td>1</td>\n      <td>2.5</td>\n      <td>2.5</td>\n      <td>2.8</td>\n      <td>2.6</td>\n      <td>2.4</td>\n      <td>2.3</td>\n    </tr>\n  </tbody>\n</table>\n<p>18 rows × 25 columns</p>\n</div>"
     },
     "metadata": {},
     "execution_count": 17
    }
   ],
   "source": [
    "# 处理降水量列 RAINFALL\n",
    "days = int(len(origin_train_init) / attr_count)\n",
    "\n",
    "RAINFALL_set = set()\n",
    "for i in range(days):\n",
    "    day_set = origin_train_init[i*attr_count: (i+1)*attr_count]\n",
    "    set_t = set(day_set.iloc[10, 3:])\n",
    "    RAINFALL_set = RAINFALL_set.union(set_t)\n",
    "\n",
    "# 将 NR 替换为 0\n",
    "origin_train = origin_train_init.replace('NR', 0).iloc[:, 2:]\n",
    "origin_train[:18]"
   ]
  },
  {
   "cell_type": "code",
   "execution_count": 18,
   "metadata": {},
   "outputs": [
    {
     "output_type": "execute_result",
     "data": {
      "text/plain": "0       AMB_TEMP\n1            CH4\n2             CO\n3           NMHC\n4             NO\n5            NO2\n6            NOx\n7             O3\n8           PM10\n9          PM2.5\n10      RAINFALL\n11            RH\n12           SO2\n13           THC\n14         WD_HR\n15    WIND_DIREC\n16    WIND_SPEED\n17         WS_HR\nName: 測項, dtype: object"
     },
     "metadata": {},
     "execution_count": 18
    }
   ],
   "source": [
    "origin_train_init[:attr_count].iloc[:,2]"
   ]
  },
  {
   "cell_type": "code",
   "execution_count": null,
   "metadata": {},
   "outputs": [],
   "source": []
  }
 ]
}